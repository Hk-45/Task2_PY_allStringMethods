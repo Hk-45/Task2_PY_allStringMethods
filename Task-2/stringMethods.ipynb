{
 "cells": [
  {
   "cell_type": "markdown",
   "id": "6a0e004f-8303-4a5b-9397-2e3826cd7ad1",
   "metadata": {},
   "source": [
    "## Center String Method\n",
    "<p>This method will center align the string using a specified character(space is deault) as the fill character.</p>"
   ]
  },
  {
   "cell_type": "code",
   "execution_count": 40,
   "id": "3d03a9ce-7cec-44ef-9c62-884322dc2596",
   "metadata": {},
   "outputs": [],
   "source": [
    "#this method will align the string in center.\n",
    "var = 'Banana' \n",
    "var1 = var.center(10)"
   ]
  },
  {
   "cell_type": "code",
   "execution_count": 42,
   "id": "0aaa6200-4787-44fa-984f-537711774e60",
   "metadata": {},
   "outputs": [
    {
     "name": "stdout",
     "output_type": "stream",
     "text": [
      "var1:   Banana  \n"
     ]
    }
   ],
   "source": [
    "print(f'var1:', var1) "
   ]
  },
  {
   "cell_type": "code",
   "execution_count": 38,
   "id": "afe0deb1-d386-4dc9-a477-f5981231dfb9",
   "metadata": {},
   "outputs": [
    {
     "name": "stdout",
     "output_type": "stream",
     "text": [
      "ab: aaaaaaaHelloaaaaaaaa\n"
     ]
    }
   ],
   "source": [
    "#In this example we fill the space with character.\n",
    "text = 'Hello'\n",
    "ab = text.center(20, \"a\")\n",
    "print(f'ab:',ab)"
   ]
  },
  {
   "cell_type": "markdown",
   "id": "9fcf7aab-14d3-473d-ba24-bb4ba989c1e2",
   "metadata": {},
   "source": [
    "## Count String Method\n",
    "<p>this method returns the number of time a value is appears in the string.</p>"
   ]
  },
  {
   "cell_type": "code",
   "execution_count": 59,
   "id": "01d36e99-785e-48af-be0f-aa73da081c3e",
   "metadata": {},
   "outputs": [],
   "source": [
    "#It return the number of time the value 'how' appears in string.\n",
    "var = 'Hello everyone how are you'\n",
    "var2 = var.count('how')"
   ]
  },
  {
   "cell_type": "code",
   "execution_count": 48,
   "id": "43bba86c-7e09-43e3-9636-85340105f0bb",
   "metadata": {},
   "outputs": [
    {
     "name": "stdout",
     "output_type": "stream",
     "text": [
      "var2: 1\n"
     ]
    }
   ],
   "source": [
    "print(f'var2:',var2)"
   ]
  },
  {
   "cell_type": "code",
   "execution_count": 61,
   "id": "db72a836-7d72-48b6-95b0-cd1ee2f52c10",
   "metadata": {},
   "outputs": [
    {
     "name": "stdout",
     "output_type": "stream",
     "text": [
      "var3: 0\n"
     ]
    }
   ],
   "source": [
    "#In this example we give the start value and end value to search the values.\n",
    "var = 'hello we are learing python'\n",
    "var3 = var.count('we', 10, 15)\n",
    "print(f'var3:',var3)"
   ]
  },
  {
   "cell_type": "markdown",
   "id": "045e50d6-ec37-4604-8438-a7358a998e1e",
   "metadata": {},
   "source": [
    "## Capitalize String Method\n",
    "<p>This method returns a string where the first character is upper case and the rest is lower case.</p>"
   ]
  },
  {
   "cell_type": "code",
   "execution_count": 80,
   "id": "6f377ea1-d2aa-458f-b860-9323f291d9bc",
   "metadata": {},
   "outputs": [],
   "source": [
    "#In this example it converted lower case string into upper case . \n",
    "var = 'hello everyone'\n",
    "op = var.capitalize()"
   ]
  },
  {
   "cell_type": "code",
   "execution_count": 74,
   "id": "c1c586d0-52a3-42df-a4ee-3d9536f988ad",
   "metadata": {},
   "outputs": [
    {
     "name": "stdout",
     "output_type": "stream",
     "text": [
      "Hello everyone\n"
     ]
    }
   ],
   "source": [
    "print(op)"
   ]
  },
  {
   "cell_type": "code",
   "execution_count": 82,
   "id": "6d7feb02-68d3-4d28-a56c-9fab82745238",
   "metadata": {},
   "outputs": [
    {
     "name": "stdout",
     "output_type": "stream",
     "text": [
      "op: Hello everyone\n"
     ]
    }
   ],
   "source": [
    "# this mehtod converted first character into upper case and rest is lower .\n",
    "var = 'hello Everyone'\n",
    "op = var.capitalize()\n",
    "print(f'op:',op)"
   ]
  },
  {
   "cell_type": "code",
   "execution_count": 91,
   "id": "d359f3dc-c7a6-4600-abe2-38f24700e4bb",
   "metadata": {},
   "outputs": [
    {
     "name": "stdout",
     "output_type": "stream",
     "text": [
      "op: 29 sept\n"
     ]
    }
   ],
   "source": [
    "# if first character is number then also print the value\n",
    "var = '29 sept'\n",
    "op = var.capitalize()\n",
    "print(f'op:',op)"
   ]
  },
  {
   "cell_type": "markdown",
   "id": "34bf5084-4df0-4999-993d-f9cf25767fef",
   "metadata": {},
   "source": [
    "## Casefold String Method\n",
    "<p>Casefold method convered the upper case into lower case and returns the string where all characters are lower case. <br>\n",
    "This method is similar as lower() method but the casefold() method is stronger, more aggressive, meaning that it will convert more characters into<br> lower case, and will find more matches when comparing two strings and both are converted using the casefold() method.</p>"
   ]
  },
  {
   "cell_type": "code",
   "execution_count": 98,
   "id": "6ed18ebc-921a-41e9-9456-f0d0944184ea",
   "metadata": {},
   "outputs": [],
   "source": [
    "#In this ex casefold method converts the upper case character into lower case and returns the string in lower case.\n",
    "var = 'Hello Everyone How Are You'\n",
    "op = var.casefold()"
   ]
  },
  {
   "cell_type": "code",
   "execution_count": 96,
   "id": "80210997-4e94-486f-8be2-cf18ab948430",
   "metadata": {},
   "outputs": [
    {
     "name": "stdout",
     "output_type": "stream",
     "text": [
      "op: hello everyone how are you\n"
     ]
    }
   ],
   "source": [
    "print(f'op:',op)"
   ]
  },
  {
   "cell_type": "markdown",
   "id": "dc623e3e-1a9d-40cc-870c-41e6aa6e1a68",
   "metadata": {},
   "source": [
    "## Endswith String Method\n",
    "<p>This method returns the true value if the string ends with the specified value otherwise it returns false.</p>"
   ]
  },
  {
   "cell_type": "code",
   "execution_count": 4,
   "id": "7e3ae0d6-9005-405f-8b11-14c611503ee9",
   "metadata": {},
   "outputs": [],
   "source": [
    "#In this example the string ends with the punctuation sign(fullstop) (.), that's why it returns the true value.\n",
    "var = 'Hello my name is hitesh.'\n",
    "op = var.endswith(\".\")"
   ]
  },
  {
   "cell_type": "code",
   "execution_count": 6,
   "id": "0801f12a-960f-4948-805e-4b69dd29a52b",
   "metadata": {},
   "outputs": [
    {
     "name": "stdout",
     "output_type": "stream",
     "text": [
      "op: True\n"
     ]
    }
   ],
   "source": [
    "print(f'op:',op)"
   ]
  },
  {
   "cell_type": "code",
   "execution_count": 22,
   "id": "eb87a853-ff26-4248-8353-e3e2f1ff33b6",
   "metadata": {},
   "outputs": [],
   "source": [
    "#it return false bcz we give the start value and end value to check \"hitesh.\" this phrase is lies in this position 5 to 15.\n",
    "var = 'Hello my name is hitesh.'\n",
    "op = var.endswith(\"hitesh.\", 5, 15)"
   ]
  },
  {
   "cell_type": "code",
   "execution_count": 24,
   "id": "d4520eca-a8a5-4320-ba50-a68a453e9660",
   "metadata": {},
   "outputs": [
    {
     "name": "stdout",
     "output_type": "stream",
     "text": [
      "op: False\n"
     ]
    }
   ],
   "source": [
    "print(f'op:',op)"
   ]
  },
  {
   "cell_type": "markdown",
   "id": "e912378c-7bcf-4847-a3df-02d3af577b63",
   "metadata": {},
   "source": [
    "## Expandtabs String Method\n",
    "<p>This method set the tabs size to the specified number of whitespaces.</p>"
   ]
  },
  {
   "cell_type": "code",
   "execution_count": 33,
   "id": "07619a79-9ec8-4e1d-affc-80e820a2e26a",
   "metadata": {},
   "outputs": [],
   "source": [
    "#In this example we set the value 2 and exapndtab method returns the string with 2 whitespaces\n",
    "var = 'h\\te\\tl\\tl\\to'\n",
    "op = var.expandtabs(2)"
   ]
  },
  {
   "cell_type": "code",
   "execution_count": 35,
   "id": "e3cbf993-649f-408a-b28d-d01fe09b4e43",
   "metadata": {},
   "outputs": [
    {
     "name": "stdout",
     "output_type": "stream",
     "text": [
      "op: h e l l o\n"
     ]
    }
   ],
   "source": [
    "print(f'op:',op)"
   ]
  },
  {
   "cell_type": "code",
   "execution_count": 45,
   "id": "650a7174-ad51-4ec2-bac4-c90a7171c19a",
   "metadata": {},
   "outputs": [
    {
     "name": "stdout",
     "output_type": "stream",
     "text": [
      "expandtabs: h\te\tl\tl\to\n",
      "exapndtabs(2): h e l l o\n",
      "exapndtabs(4): h   e   l   l   o\n"
     ]
    }
   ],
   "source": [
    "#In this example we set different values to see the result.\n",
    "var = 'h\\te\\tl\\tl\\to'\n",
    "print(f'expandtabs:',var)\n",
    "print(f'exapndtabs(2):',var.expandtabs(2))\n",
    "print(f'exapndtabs(4):',var.expandtabs(4))\n"
   ]
  },
  {
   "cell_type": "markdown",
   "id": "0f638d37-d600-4413-a591-333267215432",
   "metadata": {},
   "source": [
    "## Find String Method\n",
    "<p>This method finds the first occurance of the specified value.<br>\n",
    "find() method returns -1 if the value is not found.<br>\n",
    "It is similar as index() method but the only difference is that the index() method raises an exception if the value is not found. </p>"
   ]
  },
  {
   "cell_type": "code",
   "execution_count": 48,
   "id": "2b48b4d2-1cb9-4fee-9958-805b66e0bda1",
   "metadata": {},
   "outputs": [],
   "source": [
    "#In this we find 'y' in the string and in the result give the number 10 bcz the 'y' character occurs first at 10 position.\n",
    "var = \"Hello everyone how are you\"\n",
    "op = var.find('y')"
   ]
  },
  {
   "cell_type": "code",
   "execution_count": 50,
   "id": "50163128-33b5-4b32-b0b5-ebcf01ed2f5e",
   "metadata": {},
   "outputs": [
    {
     "name": "stdout",
     "output_type": "stream",
     "text": [
      "op: 10\n"
     ]
    }
   ],
   "source": [
    "print(f'op:',op)"
   ]
  },
  {
   "cell_type": "code",
   "execution_count": 52,
   "id": "88afb65f-7e26-439f-8d10-6fdbe0e2d8b4",
   "metadata": {},
   "outputs": [
    {
     "name": "stdout",
     "output_type": "stream",
     "text": [
      "op: 10\n"
     ]
    }
   ],
   "source": [
    "var = \"Hello everyone how are you\"\n",
    "op = var.find('y', 5, 15)\n",
    "print(f'op:',op)"
   ]
  },
  {
   "cell_type": "markdown",
   "id": "41b5e2be-d711-4126-a9f0-0a99d8b106ce",
   "metadata": {},
   "source": [
    "## Format String Method\n",
    "<p>This method formats the specified value and insert them into the string's placeholder.<br>\n",
    "format() method returns formatted string.</p>"
   ]
  },
  {
   "cell_type": "code",
   "execution_count": 59,
   "id": "c8f2eee1-910c-420c-9bde-3d9e2a0cb47b",
   "metadata": {},
   "outputs": [
    {
     "name": "stdout",
     "output_type": "stream",
     "text": [
      "I am 24 years old\n"
     ]
    }
   ],
   "source": [
    "#Insert the age in placeholder and print the formatted string\n",
    "var = 'I am {age} years old'\n",
    "print(var.format(age = 24))"
   ]
  },
  {
   "cell_type": "code",
   "execution_count": 63,
   "id": "a20ee4ef-6463-4c61-8231-cbbf42e7ca00",
   "metadata": {},
   "outputs": [
    {
     "name": "stdout",
     "output_type": "stream",
     "text": [
      "op: My name is hitesh, I am 24\n"
     ]
    }
   ],
   "source": [
    "var = 'My name is {name}, I am {age}'\n",
    "op = var.format(name = 'hitesh', age = 24)\n",
    "print(f'op:',op)"
   ]
  },
  {
   "cell_type": "markdown",
   "id": "721e093e-e998-46bb-86eb-494a42ca99c8",
   "metadata": {},
   "source": [
    "## Index String Method\n",
    "<p>This method finds the first occurance of the specified value.<br>\n",
    "It is similar like find() method.</p>"
   ]
  },
  {
   "cell_type": "code",
   "execution_count": 68,
   "id": "215b6653-91e6-4657-9206-8781d17879e6",
   "metadata": {},
   "outputs": [
    {
     "name": "stdout",
     "output_type": "stream",
     "text": [
      "op: 7\n"
     ]
    }
   ],
   "source": [
    "#finds the first occurance of the 'v' character.\n",
    "var = 'hello everyone'\n",
    "op = var.index('v')\n",
    "print(f'op:',op)"
   ]
  },
  {
   "cell_type": "code",
   "execution_count": 72,
   "id": "7db76269-cae9-48b4-9c70-d49131f7a39b",
   "metadata": {},
   "outputs": [
    {
     "ename": "ValueError",
     "evalue": "substring not found",
     "output_type": "error",
     "traceback": [
      "\u001b[1;31m---------------------------------------------------------------------------\u001b[0m",
      "\u001b[1;31mValueError\u001b[0m                                Traceback (most recent call last)",
      "Cell \u001b[1;32mIn[72], line 3\u001b[0m\n\u001b[0;32m      1\u001b[0m \u001b[38;5;66;03m#In index method if the value is not found it gives you valueError: substring not found.\u001b[39;00m\n\u001b[0;32m      2\u001b[0m var \u001b[38;5;241m=\u001b[39m \u001b[38;5;124m'\u001b[39m\u001b[38;5;124mhello everyone\u001b[39m\u001b[38;5;124m'\u001b[39m\n\u001b[1;32m----> 3\u001b[0m op \u001b[38;5;241m=\u001b[39m var\u001b[38;5;241m.\u001b[39mindex(\u001b[38;5;124m'\u001b[39m\u001b[38;5;124mt\u001b[39m\u001b[38;5;124m'\u001b[39m)\n\u001b[0;32m      4\u001b[0m \u001b[38;5;28mprint\u001b[39m(\u001b[38;5;124mf\u001b[39m\u001b[38;5;124m'\u001b[39m\u001b[38;5;124mop:\u001b[39m\u001b[38;5;124m'\u001b[39m,op)\n",
      "\u001b[1;31mValueError\u001b[0m: substring not found"
     ]
    }
   ],
   "source": [
    "#In index method if the value is not found it gives you valueError: substring not found.\n",
    "var = 'hello everyone'\n",
    "op = var.index('t')\n",
    "print(f'op:',op)"
   ]
  },
  {
   "cell_type": "markdown",
   "id": "5c5cded4-89a1-47d0-91ea-30a6cee1bd9b",
   "metadata": {},
   "source": [
    "## isalnum String Method\n",
    "<p>This method returns true if all the characters are alphanumeric, meaning alphabet (a-z) and numbers (0-9). </p>"
   ]
  },
  {
   "cell_type": "code",
   "execution_count": 77,
   "id": "05ce60da-77d4-4020-964a-3baf368dfb76",
   "metadata": {},
   "outputs": [
    {
     "name": "stdout",
     "output_type": "stream",
     "text": [
      "op: True\n"
     ]
    }
   ],
   "source": [
    "#In this example we set alphanumeric value so it reurns true in the output.\n",
    "var = 'Arcda9'\n",
    "op = var.isalnum()\n",
    "print(f'op:',op)"
   ]
  },
  {
   "cell_type": "code",
   "execution_count": 81,
   "id": "f2cfd60f-b788-4431-8cef-e3cf3717ec9d",
   "metadata": {},
   "outputs": [
    {
     "name": "stdout",
     "output_type": "stream",
     "text": [
      "op: False\n"
     ]
    }
   ],
   "source": [
    "#This time it give false bcz alphanumeric not contain space that's why it give false in the output.\n",
    "var = 'Arcda 9'\n",
    "op = var.isalnum()\n",
    "print(f'op:',op)"
   ]
  },
  {
   "cell_type": "markdown",
   "id": "15b875c1-b731-41c5-b8fc-373a9afbf10b",
   "metadata": {},
   "source": [
    "## isalpha String Method\n",
    "<p>This method returns true if all the characters are alphabets.</p>"
   ]
  },
  {
   "cell_type": "code",
   "execution_count": 86,
   "id": "65b09557-2739-4679-bd03-e3c61b6d35ca",
   "metadata": {},
   "outputs": [
    {
     "name": "stdout",
     "output_type": "stream",
     "text": [
      "op: True\n"
     ]
    }
   ],
   "source": [
    "# It give true bcz we set string alphabet.\n",
    "var = 'arcDa'\n",
    "op = var.isalpha()\n",
    "print(f'op:',op)"
   ]
  },
  {
   "cell_type": "code",
   "execution_count": 90,
   "id": "d6c0fa97-fc44-43e0-8ea0-7a817c43852e",
   "metadata": {},
   "outputs": [
    {
     "name": "stdout",
     "output_type": "stream",
     "text": [
      "op: False\n"
     ]
    }
   ],
   "source": [
    "# this time we set alphanumeric string so it give false in output.\n",
    "var = 'arcDa9'\n",
    "op = var.isalpha()\n",
    "print(f'op:',op)"
   ]
  },
  {
   "cell_type": "markdown",
   "id": "2a0c7f95-5f98-4a29-8147-bbea67f351f5",
   "metadata": {},
   "source": [
    "## isdecimal String Method\n",
    "<p>This method returns true if the all the characters are decimal (0-9).<br>\n",
    "This method can also be used on unicode objects.</p>"
   ]
  },
  {
   "cell_type": "code",
   "execution_count": 96,
   "id": "6f5e1361-af0a-418a-86bd-93f335168882",
   "metadata": {},
   "outputs": [
    {
     "name": "stdout",
     "output_type": "stream",
     "text": [
      "op: True\n"
     ]
    }
   ],
   "source": [
    "#In this example it give true bcz we set the character decimal.\n",
    "var = \"123456\"\n",
    "op = var.isdecimal()\n",
    "print(f'op:',op)"
   ]
  },
  {
   "cell_type": "code",
   "execution_count": 114,
   "id": "a6a3ca13-f6e9-4555-b817-2357c02e3402",
   "metadata": {},
   "outputs": [
    {
     "name": "stdout",
     "output_type": "stream",
     "text": [
      "op: False\n"
     ]
    }
   ],
   "source": [
    "#This time it give false bcz the unicode we set is for G that's why it give false result.\n",
    "var = \"\\u0047\"\n",
    "op = var.isdecimal()\n",
    "print(f'op:',op)"
   ]
  },
  {
   "cell_type": "markdown",
   "id": "dba2dfa5-8e11-4ea5-9701-5ec560b187e7",
   "metadata": {},
   "source": [
    "## isdigit String Method\n",
    "<p>This method returns true if all character are digit otherwise false.<br>\n",
    "Exponents, like ², are also considered to be a digit.</p>"
   ]
  },
  {
   "cell_type": "code",
   "execution_count": 117,
   "id": "fa565d85-40d2-4714-8a26-1c5261756be1",
   "metadata": {},
   "outputs": [
    {
     "name": "stdout",
     "output_type": "stream",
     "text": [
      "op: True\n"
     ]
    }
   ],
   "source": [
    "var = \"123456\"\n",
    "op = var.isdigit()\n",
    "print(f'op:',op)"
   ]
  },
  {
   "cell_type": "code",
   "execution_count": 119,
   "id": "be29d0c7-8b11-400c-a4cb-5abdffc3edfc",
   "metadata": {},
   "outputs": [
    {
     "name": "stdout",
     "output_type": "stream",
     "text": [
      "op: True\n"
     ]
    }
   ],
   "source": [
    "var = \"\\u00B2\"\n",
    "op = var.isdigit()\n",
    "print(f'op:',op)"
   ]
  },
  {
   "cell_type": "markdown",
   "id": "0c657805-3ed2-4946-8953-f892df06323f",
   "metadata": {},
   "source": [
    "## isidentifier String Method\n",
    "<p>This method returns true if the string is a valid identifier other false.<br>\n",
    "A string is considered a valid identifier if it only contains alphanumeric letters (a-z) and (0-9), or underscores (_).<br>\n",
    "A valid identifier cannot start with a number, or contain any spaces.</p>"
   ]
  },
  {
   "cell_type": "code",
   "execution_count": 124,
   "id": "cf641cbe-034b-4ca0-80ac-1dae025fbe63",
   "metadata": {},
   "outputs": [
    {
     "name": "stdout",
     "output_type": "stream",
     "text": [
      "op: True\n"
     ]
    }
   ],
   "source": [
    "#It give give true bcz we give the alphanumeric value.\n",
    "var = 'Hello1'\n",
    "op = var.isidentifier()\n",
    "print(f'op:',op)"
   ]
  },
  {
   "cell_type": "code",
   "execution_count": 128,
   "id": "30484d66-9620-4498-ad1a-3b6139ce43ba",
   "metadata": {},
   "outputs": [
    {
     "name": "stdout",
     "output_type": "stream",
     "text": [
      "op: True\n",
      "op1: False\n",
      "op2: True\n"
     ]
    }
   ],
   "source": [
    "var = 'Hello1'\n",
    "var1 = 'Hello world'\n",
    "var2 = 'arc_Da9'\n",
    "op = var.isidentifier()\n",
    "op1 = var1.isidentifier()\n",
    "op2 = var2.isidentifier()\n",
    "print(f'op:',op)\n",
    "print(f'op1:',op1)\n",
    "print(f'op2:',op2)"
   ]
  },
  {
   "cell_type": "markdown",
   "id": "b650dfbb-8c8c-47a9-82f7-3becae0d64f6",
   "metadata": {},
   "source": [
    "## islower String Method \n",
    "<p>This method returns true if all the characters are in lower case otherwise it return false.<br>\n",
    "Numbers, symbols and spaces are not checked, only alphabet characters.</p>"
   ]
  },
  {
   "cell_type": "code",
   "execution_count": 4,
   "id": "52864a7a-6c8e-41c1-b295-5eaa74cf2e49",
   "metadata": {},
   "outputs": [
    {
     "name": "stdout",
     "output_type": "stream",
     "text": [
      "op: True\n"
     ]
    }
   ],
   "source": [
    "#It give true bcz we set all characters in lower case.\n",
    "var = 'hello everyone'\n",
    "op = var.islower()\n",
    "print(f'op:',op)"
   ]
  },
  {
   "cell_type": "code",
   "execution_count": 10,
   "id": "9ec238c2-8fcd-4443-bdcd-ea5958ee5bf7",
   "metadata": {},
   "outputs": [
    {
     "name": "stdout",
     "output_type": "stream",
     "text": [
      "var: True\n",
      "var1: True\n",
      "var2: False\n"
     ]
    }
   ],
   "source": [
    "#var2 is false bcz the starting character is in upper case and islower method not checked the numbers.\n",
    "var = 'hello everyone'\n",
    "var1 = 'hello 123'\n",
    "var2 = 'Hello everyone'\n",
    "print(f'var:',var.islower())\n",
    "print(f'var1:',var1.islower())\n",
    "print(f'var2:',var2.islower())"
   ]
  },
  {
   "cell_type": "markdown",
   "id": "fad728a9-9430-47c6-b041-4e4fd7c8a4dc",
   "metadata": {},
   "source": [
    "## isupper String Method\n",
    "<p>This method returns true if all the characters are in upper case otherwise it return false.<br>\n",
    "Numbers, symbols and spaces are not checked, only alphabet characters.</p>"
   ]
  },
  {
   "cell_type": "code",
   "execution_count": 15,
   "id": "2beb3cd6-129c-4153-95e4-e4b5476623c3",
   "metadata": {},
   "outputs": [
    {
     "name": "stdout",
     "output_type": "stream",
     "text": [
      "var: True\n",
      "var1: False\n"
     ]
    }
   ],
   "source": [
    "#var return true bcz all the character in var are in upper case and in var1 only the starting character in upper case that's why it return false.\n",
    "var = 'HELLO EVERYONE'\n",
    "var1 = 'Hello Everyone'\n",
    "print(f'var:',var.isupper())\n",
    "print(f'var1:',var1.isupper())"
   ]
  },
  {
   "cell_type": "code",
   "execution_count": 17,
   "id": "859bbe36-9637-4788-818c-b4c306149329",
   "metadata": {},
   "outputs": [
    {
     "name": "stdout",
     "output_type": "stream",
     "text": [
      "var: True\n",
      "var1: False\n",
      "var2: True\n"
     ]
    }
   ],
   "source": [
    "var = 'HELLO EVERYONE'\n",
    "var1 = 'Hello Everyone'\n",
    "var2 = 'HELLO 123'\n",
    "print(f'var:',var.isupper())\n",
    "print(f'var1:',var1.isupper())\n",
    "print(f'var2:',var2.isupper())"
   ]
  },
  {
   "cell_type": "markdown",
   "id": "460b0a51-41b1-4e7f-9324-d08c80f9815f",
   "metadata": {},
   "source": [
    "## isnumeric String Method\n",
    "<p>This method returns true if all the characters are numeric (0-9) otherwise false.<br>\n",
    "Exponents, like ² and 3/4 are also considered to be numeric values.<br>\"-1\" and \"1.5\" are NOT considered numeric values.</p>"
   ]
  },
  {
   "cell_type": "code",
   "execution_count": 22,
   "id": "8802fe58-7ca1-4377-a2f2-19f1d0d15cf2",
   "metadata": {},
   "outputs": [
    {
     "name": "stdout",
     "output_type": "stream",
     "text": [
      "var: True\n",
      "var1: False\n"
     ]
    }
   ],
   "source": [
    "#var return true bcz all character are numeric and in var1 we set minus sign (-) that's why it return false.\n",
    "var = '123456'\n",
    "var1 = '-2'\n",
    "print(f'var:',var.isnumeric())\n",
    "print(f'var1:',var1.isnumeric())"
   ]
  },
  {
   "cell_type": "markdown",
   "id": "761c568d-9337-4879-8dd6-1e991cd9404b",
   "metadata": {},
   "source": [
    "## isprintable String Method\n",
    "<p>This method returns true if all the characters are printable otherwise false.<br>\n",
    "printable: printable character inculdes letter,digits and special punctuation such as commas,bracket and question marks.<br>\n",
    "Unprintable: Unprintable character correspond to code that indicate a special function such as line feed, tab and carriage return. </p>"
   ]
  },
  {
   "cell_type": "code",
   "execution_count": 29,
   "id": "037c6304-4c99-47cb-94c8-5daf125c0f1a",
   "metadata": {},
   "outputs": [
    {
     "name": "stdout",
     "output_type": "stream",
     "text": [
      "op: True\n"
     ]
    }
   ],
   "source": [
    "# It return true bcz we set printable format correctly\n",
    "var = 'abc123,(1)?'\n",
    "op = var.isprintable()\n",
    "print(f'op:',op)"
   ]
  },
  {
   "cell_type": "code",
   "execution_count": 45,
   "id": "d774d8a9-e37c-4796-8569-fb30d3fb9efd",
   "metadata": {},
   "outputs": [
    {
     "name": "stdout",
     "output_type": "stream",
     "text": [
      "var: True\n",
      "var1: False\n"
     ]
    }
   ],
   "source": [
    "var = 'abc123,(1)?'\n",
    "var1 = \"Hello!\\nAre you #1?\"\n",
    "print(f'var:',var.isprintable())\n",
    "print(f'var1:',var1.isprintable())"
   ]
  },
  {
   "cell_type": "markdown",
   "id": "69c6d245-3acd-4858-93f1-0af642aa689f",
   "metadata": {},
   "source": [
    "## isspace String Method\n",
    "<p>This method returns true if all character in the string are whitespace otherwise false. </p>"
   ]
  },
  {
   "cell_type": "code",
   "execution_count": 48,
   "id": "6c10e76a-288b-4852-aabf-951a278f5093",
   "metadata": {},
   "outputs": [
    {
     "name": "stdout",
     "output_type": "stream",
     "text": [
      "op: True\n"
     ]
    }
   ],
   "source": [
    "var = '          '\n",
    "op = var.isspace()\n",
    "print(f'op:',op)"
   ]
  },
  {
   "cell_type": "code",
   "execution_count": 58,
   "id": "28237ec6-1366-433f-ac54-e7864d99d05d",
   "metadata": {},
   "outputs": [
    {
     "name": "stdout",
     "output_type": "stream",
     "text": [
      "False\n"
     ]
    }
   ],
   "source": [
    "#It reurns false bcz isspace method check only whitespace if the character in the string then it give false.\n",
    "var = 'hello    everyone'\n",
    "print(var.isspace())"
   ]
  },
  {
   "cell_type": "markdown",
   "id": "c5f57324-f22a-45e4-9084-f2ca5c1ec2ff",
   "metadata": {},
   "source": [
    "## istitle String Method\n",
    "<p>This method returns true if all the words in the text start with upper case letter and the rest of the words are in lower<br>\n",
    "case letter otherwise false. Symbols and numbers are ignored</p>"
   ]
  },
  {
   "cell_type": "code",
   "execution_count": 65,
   "id": "2dc74835-04a5-482c-862e-7531933d47d0",
   "metadata": {},
   "outputs": [
    {
     "name": "stdout",
     "output_type": "stream",
     "text": [
      "op: True\n"
     ]
    }
   ],
   "source": [
    "#It return true bcz each words start with upper case letter.\n",
    "var = 'Hello Everyone How Are You'\n",
    "op = var.istitle()\n",
    "print(f'op:',op)"
   ]
  },
  {
   "cell_type": "code",
   "execution_count": 71,
   "id": "79c56114-8b1a-4eee-adfd-f3e3c172c61c",
   "metadata": {},
   "outputs": [
    {
     "name": "stdout",
     "output_type": "stream",
     "text": [
      "var: True\n",
      "var1: False\n",
      "var2: True\n"
     ]
    }
   ],
   "source": [
    "#var1 retrun false bcz second word start with lower case letter.\n",
    "var = 'Hello Everyone How Are You'\n",
    "var1 = 'Hello everyone'\n",
    "var2 = 'Hello 123'\n",
    "print(f'var:',var.istitle())\n",
    "print(f'var1:',var1.istitle())\n",
    "print(f'var2:',var2.istitle())"
   ]
  },
  {
   "cell_type": "markdown",
   "id": "16b46aea-6da8-43c0-83dd-dc65e68d32f5",
   "metadata": {},
   "source": [
    "## join String Method\n",
    "<p>This method takes all the items in an iterable and joins them into one string.A string must be specified as the separator.<br>\n",
    "iterable: Required. Any iterable object where all the returned values are strings</p>"
   ]
  },
  {
   "cell_type": "code",
   "execution_count": 99,
   "id": "c8d8e46b-0df7-4f43-b38d-bdd7e5acb60e",
   "metadata": {},
   "outputs": [
    {
     "name": "stdout",
     "output_type": "stream",
     "text": [
      "op: Hello Everyone\n"
     ]
    }
   ],
   "source": [
    "# join method is use to join two strings into one string.\n",
    "var = ('Hello', 'Everyone')\n",
    "op = ' '.join(var)\n",
    "print(f'op:',op)"
   ]
  },
  {
   "cell_type": "markdown",
   "id": "adcf8bc1-57f1-4719-a5e7-e70c181c9a4c",
   "metadata": {},
   "source": [
    "## ljust String Method\n",
    "<p>This method will left algin the string using a specified character (space is default) as the fill character. </p>"
   ]
  },
  {
   "cell_type": "code",
   "execution_count": 91,
   "id": "cf886b64-cc24-4b6e-b587-d3c0bba8b5fc",
   "metadata": {},
   "outputs": [
    {
     "name": "stdout",
     "output_type": "stream",
     "text": [
      "op: Hello      everyone\n"
     ]
    }
   ],
   "source": [
    "#In this result there are actually 5 whitespace to right of the word Hello.\n",
    "var = 'Hello'\n",
    "op = var.ljust(10)\n",
    "print(f'op:',op, 'everyone')"
   ]
  },
  {
   "cell_type": "markdown",
   "id": "e284bc8a-427a-4236-bcd5-c875c5f59a1b",
   "metadata": {},
   "source": [
    "## lower String Method\n",
    "<p>This method returns string where all characters are in lower case means it convert the upper case letter into lower case and show result.</p>"
   ]
  },
  {
   "cell_type": "code",
   "execution_count": 95,
   "id": "8a0bcca7-3678-43c4-96ab-46c4361810e5",
   "metadata": {},
   "outputs": [
    {
     "name": "stdout",
     "output_type": "stream",
     "text": [
      "Hello11111\n"
     ]
    }
   ],
   "source": [
    "# In this reult we filled the 5 whitspace with 1 number (padding character).\n",
    "var = 'Hello'\n",
    "print(var.ljust(10, '1'))\n"
   ]
  },
  {
   "cell_type": "code",
   "execution_count": 104,
   "id": "591d6086-7d3d-4da1-8cef-d506a81fe7bd",
   "metadata": {},
   "outputs": [
    {
     "name": "stdout",
     "output_type": "stream",
     "text": [
      "op: hello everyone\n"
     ]
    }
   ],
   "source": [
    "# It convert the upper case letter into lower case and show the result.\n",
    "var = 'Hello EVERYONE'\n",
    "op = var.lower()\n",
    "print(f'op:',op)"
   ]
  },
  {
   "cell_type": "code",
   "execution_count": 106,
   "id": "b49004ea-be2a-4efb-9652-ebaea952fbc1",
   "metadata": {},
   "outputs": [
    {
     "name": "stdout",
     "output_type": "stream",
     "text": [
      "op: hello\n"
     ]
    }
   ],
   "source": [
    "var = 'hello'\n",
    "op = var.lower()\n",
    "print(f'op:',op)"
   ]
  },
  {
   "cell_type": "markdown",
   "id": "d211ad45-8e95-44c4-af76-0d4b9848c70a",
   "metadata": {},
   "source": [
    "## lstrip String Method\n",
    "<p>This method removes any leading character(space is the default leading character to remove).</p>"
   ]
  },
  {
   "cell_type": "code",
   "execution_count": 111,
   "id": "568f391b-fe45-46db-93ad-705e1a10c796",
   "metadata": {},
   "outputs": [
    {
     "name": "stdout",
     "output_type": "stream",
     "text": [
      "op: Hello         123\n"
     ]
    }
   ],
   "source": [
    "# it removes the left space of the string.\n",
    "var = '      Hello        '\n",
    "op = var.lstrip()\n",
    "print(f'op:',op, '123')"
   ]
  },
  {
   "cell_type": "code",
   "execution_count": 117,
   "id": "cd26197e-0693-4592-b607-d98ebf8365c2",
   "metadata": {},
   "outputs": [
    {
     "name": "stdout",
     "output_type": "stream",
     "text": [
      "op: Hello\n"
     ]
    }
   ],
   "source": [
    "#we asign 123 so lstrip method removes the 123 from the string .\n",
    "var = '123Hello'\n",
    "op = var.lstrip('123')\n",
    "print(f'op:',op)"
   ]
  },
  {
   "cell_type": "markdown",
   "id": "b4630a74-39d6-4dd2-bba9-bbc08a7754f9",
   "metadata": {},
   "source": [
    "## maketrans String Method\n",
    "<p>The maketrans() method returns a mapping table that can be used with the translate() method to replace specified characters.\r\n",
    " </p>"
   ]
  },
  {
   "cell_type": "code",
   "execution_count": 122,
   "id": "26749aaa-261e-4865-8e91-b2183cfafcc1",
   "metadata": {},
   "outputs": [
    {
     "name": "stdout",
     "output_type": "stream",
     "text": [
      "Hello worls\n"
     ]
    }
   ],
   "source": [
    "#it replace the d character with s character.\n",
    "var = 'Hello world'\n",
    "op = str.maketrans('d','s')\n",
    "print(var.translate(op))"
   ]
  },
  {
   "cell_type": "markdown",
   "id": "23231dc9-0911-40f9-be93-79e5bdd34326",
   "metadata": {},
   "source": [
    "## partition String Method\n",
    "<p>This method search a sepcified string and splits the string into tuple containing three elements.</p>\n",
    "<p>The first element contains the part before the specified string.</p>\n",
    "<p>The second element contains the specified string.</p>.<p>The third element contains the part after the string.</p>\n",
    "</p>"
   ]
  },
  {
   "cell_type": "code",
   "execution_count": 136,
   "id": "dc2ffdb6-be68-4cf5-87c1-7f2c299d9699",
   "metadata": {},
   "outputs": [
    {
     "name": "stdout",
     "output_type": "stream",
     "text": [
      "op: ('Hello everyone ', 'how', ' are you')\n"
     ]
    }
   ],
   "source": [
    "#It search the word how and seprated the before match, match, after match.\n",
    "var = 'Hello everyone how are you'\n",
    "op = var.partition('how')\n",
    "print(f'op:',op)"
   ]
  },
  {
   "cell_type": "code",
   "execution_count": 138,
   "id": "e8375744-c6f2-4184-a1f7-7791aaddb7fa",
   "metadata": {},
   "outputs": [
    {
     "name": "stdout",
     "output_type": "stream",
     "text": [
      "op: ('Hello everyone how are you', '', '')\n"
     ]
    }
   ],
   "source": [
    "var = 'Hello everyone how are you'\n",
    "op = var.partition('it')\n",
    "print(f'op:',op)"
   ]
  },
  {
   "cell_type": "markdown",
   "id": "b698ca31-19ae-4d64-b214-8e58092e2adc",
   "metadata": {},
   "source": [
    "## replace String Method\n",
    "<p>This method replace the specified string with another specified string.</p>"
   ]
  },
  {
   "cell_type": "code",
   "execution_count": 141,
   "id": "4a0469dc-3fcb-4fe5-a884-0ecfa1eb540a",
   "metadata": {},
   "outputs": [
    {
     "name": "stdout",
     "output_type": "stream",
     "text": [
      "op: Hello Hitesh\n"
     ]
    }
   ],
   "source": [
    "var = 'Hello everyone'\n",
    "op = var.replace('everyone' , 'Hitesh')\n",
    "print(f'op:',op)"
   ]
  },
  {
   "cell_type": "code",
   "execution_count": 143,
   "id": "8e37744b-e6a2-4f23-bc02-0909287e847f",
   "metadata": {},
   "outputs": [
    {
     "name": "stdout",
     "output_type": "stream",
     "text": [
      "op: listen everyone listen\n"
     ]
    }
   ],
   "source": [
    "var = 'Hello everyone Hello'\n",
    "op = var.replace('Hello' , 'listen')\n",
    "print(f'op:',op)"
   ]
  },
  {
   "cell_type": "markdown",
   "id": "e1695f5c-d4bb-4716-88f5-3ebf2aea50ef",
   "metadata": {},
   "source": [
    "## rfind String Method\n",
    "<p>This method finds the last occurance of the specified character. It return -1 if the value is not found.<br>\n",
    "It is like rindex method</p>"
   ]
  },
  {
   "cell_type": "code",
   "execution_count": 148,
   "id": "dfe86eee-d518-43ee-b35d-bfdd5b566aad",
   "metadata": {},
   "outputs": [
    {
     "name": "stdout",
     "output_type": "stream",
     "text": [
      "var: 21\n"
     ]
    }
   ],
   "source": [
    "# it find last occurance of the e character and show in number.\n",
    "var = 'Hello welcome everyone'\n",
    "print(f'var:',var.rfind('e'))"
   ]
  },
  {
   "cell_type": "markdown",
   "id": "32d4fdcd-5288-45ba-9f0a-54c08c37fb44",
   "metadata": {},
   "source": [
    "## rindex String Method\n",
    "<p>This method find the last occurance of the specified character. It raises an exception if the value is not found. </p>"
   ]
  },
  {
   "cell_type": "code",
   "execution_count": 151,
   "id": "c4ffdd89-0ea4-4e2c-ba40-fe971ba90cf0",
   "metadata": {},
   "outputs": [
    {
     "name": "stdout",
     "output_type": "stream",
     "text": [
      "varr: 7\n"
     ]
    }
   ],
   "source": [
    "var = 'Hello everyone'\n",
    "print(f'varr:',var.rindex('v'))"
   ]
  },
  {
   "cell_type": "code",
   "execution_count": 155,
   "id": "48eba9a3-f0ff-46bb-b616-d2a0aa7a985d",
   "metadata": {},
   "outputs": [
    {
     "ename": "ValueError",
     "evalue": "substring not found",
     "output_type": "error",
     "traceback": [
      "\u001b[1;31m---------------------------------------------------------------------------\u001b[0m",
      "\u001b[1;31mValueError\u001b[0m                                Traceback (most recent call last)",
      "Cell \u001b[1;32mIn[155], line 3\u001b[0m\n\u001b[0;32m      1\u001b[0m \u001b[38;5;66;03m#value not found it raises valueError string not found.\u001b[39;00m\n\u001b[0;32m      2\u001b[0m var \u001b[38;5;241m=\u001b[39m \u001b[38;5;124m'\u001b[39m\u001b[38;5;124mHello everyone\u001b[39m\u001b[38;5;124m'\u001b[39m\n\u001b[1;32m----> 3\u001b[0m \u001b[38;5;28mprint\u001b[39m(\u001b[38;5;124mf\u001b[39m\u001b[38;5;124m'\u001b[39m\u001b[38;5;124mvarr:\u001b[39m\u001b[38;5;124m'\u001b[39m,var\u001b[38;5;241m.\u001b[39mrindex(\u001b[38;5;124m'\u001b[39m\u001b[38;5;124ma\u001b[39m\u001b[38;5;124m'\u001b[39m))\n",
      "\u001b[1;31mValueError\u001b[0m: substring not found"
     ]
    }
   ],
   "source": [
    "#value not found it raises valueError string not found.\n",
    "var = 'Hello everyone'\n",
    "print(f'varr:',var.rindex('a')) "
   ]
  },
  {
   "cell_type": "markdown",
   "id": "ae3f3729-a3d2-4f68-9989-1389e8fc28f8",
   "metadata": {},
   "source": [
    "## rjust String Method\n",
    "<p>This method will right align the string using a specified character(space is default) as the fill character. </p>"
   ]
  },
  {
   "cell_type": "code",
   "execution_count": 168,
   "id": "aaaa329e-9f51-4fc0-ba9e-871a270fd6bd",
   "metadata": {},
   "outputs": [
    {
     "name": "stdout",
     "output_type": "stream",
     "text": [
      "var:           Hello sam\n"
     ]
    }
   ],
   "source": [
    "var = 'Hello'\n",
    "print(f'var:',var.rjust(15), 'sam')"
   ]
  },
  {
   "cell_type": "code",
   "execution_count": 170,
   "id": "2c23de01-7828-4e6f-8c4f-2ab1ad44d396",
   "metadata": {},
   "outputs": [
    {
     "name": "stdout",
     "output_type": "stream",
     "text": [
      "var: 1111111111Hello\n"
     ]
    }
   ],
   "source": [
    "var = 'Hello'\n",
    "print(f'var:',var.rjust(15, '1'))"
   ]
  },
  {
   "cell_type": "markdown",
   "id": "516494a1-7e9f-49b1-9ecc-7376b22aaedc",
   "metadata": {},
   "source": [
    "## rpartition String Method\n",
    "<p>This method searches for the last occurrence of a specified string, and splits the string into a tuple containing three elements.<br>\n",
    "It is similar as partition method .</p>"
   ]
  },
  {
   "cell_type": "code",
   "execution_count": 175,
   "id": "dc6dfe3e-e35b-4c4f-b861-0e55fab98e24",
   "metadata": {},
   "outputs": [
    {
     "name": "stdout",
     "output_type": "stream",
     "text": [
      "op: ('Hello everyone ', 'how', ' are you')\n"
     ]
    }
   ],
   "source": [
    "var = 'Hello everyone how are you'\n",
    "op = var.rpartition('how')\n",
    "print(f'op:',op)"
   ]
  },
  {
   "cell_type": "code",
   "execution_count": 177,
   "id": "0833a30c-7317-426e-a920-0d9b14a71094",
   "metadata": {},
   "outputs": [
    {
     "name": "stdout",
     "output_type": "stream",
     "text": [
      "op: ('', '', 'Hello everyone how are you')\n"
     ]
    }
   ],
   "source": [
    "var = 'Hello everyone how are you'\n",
    "op = var.rpartition('who')\n",
    "print(f'op:',op)"
   ]
  },
  {
   "cell_type": "markdown",
   "id": "e030503b-ee29-47d4-b684-5a642159d038",
   "metadata": {},
   "source": [
    "## rsplit String Method\n",
    "<p>This method splits the string into a list strating from the right.<br>\n",
    "If no \"max\" is specified, this method will return the same as the split method.</p>"
   ]
  },
  {
   "cell_type": "code",
   "execution_count": 184,
   "id": "5d62b278-9cea-424d-a870-716635728889",
   "metadata": {},
   "outputs": [
    {
     "name": "stdout",
     "output_type": "stream",
     "text": [
      "op: ['car,bike,phone']\n"
     ]
    }
   ],
   "source": [
    "#It create a list with comma and space.\n",
    "var = 'car,bike,phone'\n",
    "op = var.rsplit(', ')\n",
    "print(f'op:',op)"
   ]
  },
  {
   "cell_type": "code",
   "execution_count": 190,
   "id": "be816919-962f-4305-89ad-68a6a534d525",
   "metadata": {},
   "outputs": [
    {
     "name": "stdout",
     "output_type": "stream",
     "text": [
      "op: ['car,bike,phone']\n"
     ]
    }
   ],
   "source": [
    "var = 'car,bike,phone'\n",
    "op = var.rsplit(', ', 1)\n",
    "print(f'op:',op)"
   ]
  },
  {
   "cell_type": "markdown",
   "id": "9806962c-23b5-498d-91de-4bda0b40dc31",
   "metadata": {},
   "source": [
    "## split String Method\n",
    "<p>The split method splits a string into a list.\r\n",
    "You can specify the separator, default separator is any whitespace.\n",
    "</p>"
   ]
  },
  {
   "cell_type": "code",
   "execution_count": 195,
   "id": "b48c9534-5aef-49ec-ab55-386ce9c20498",
   "metadata": {},
   "outputs": [
    {
     "name": "stdout",
     "output_type": "stream",
     "text": [
      "var: ['Hello', 'everyone', 'how', 'are', 'you']\n"
     ]
    }
   ],
   "source": [
    "#split method directly seprated the string and make list\n",
    "var = 'Hello everyone how are you'\n",
    "print(f'var:',var.split())"
   ]
  },
  {
   "cell_type": "markdown",
   "id": "25d4bbe6-f5f7-4bb3-82cb-790cebd4d06c",
   "metadata": {},
   "source": [
    "## splitline String Method\n",
    "<p>This method split the string into list, the spliting is done at line break. </p>"
   ]
  },
  {
   "cell_type": "code",
   "execution_count": 204,
   "id": "8b8350f1-7c1c-41e9-83ac-74f7ffffff5d",
   "metadata": {},
   "outputs": [
    {
     "name": "stdout",
     "output_type": "stream",
     "text": [
      "var: ['Hello everyone how', 'are you']\n"
     ]
    }
   ],
   "source": [
    "var = 'Hello everyone how\\nare you'\n",
    "print(f'var:',var.splitlines())"
   ]
  },
  {
   "cell_type": "markdown",
   "id": "f7fcec5e-cb03-48cb-902e-aa0a32d6f8bc",
   "metadata": {},
   "source": [
    "## swapcase String Method\n",
    "<p>This method returns a string where all the upper case letter are lower case and vice versa.</p>"
   ]
  },
  {
   "cell_type": "code",
   "execution_count": 209,
   "id": "0f1f5e31-5b52-46cc-835f-2c306c9437cc",
   "metadata": {},
   "outputs": [
    {
     "name": "stdout",
     "output_type": "stream",
     "text": [
      "var: hELLO eVERYONE\n"
     ]
    }
   ],
   "source": [
    "#it change upper case into lower case and vice versa.\n",
    "var = 'Hello Everyone'\n",
    "print(f'var:',var.swapcase())"
   ]
  },
  {
   "cell_type": "markdown",
   "id": "3f2f2257-620b-4836-a00f-ced2c27061ca",
   "metadata": {},
   "source": [
    "## zfill String Method\n",
    "<p>This method adds zeros(0) at the begining of the string until it reaches the specified length.<br>\n",
    "If the value of the len parameter is less than the length of the string, no filling is done.</p>"
   ]
  },
  {
   "cell_type": "code",
   "execution_count": 216,
   "id": "c94f3f7e-236b-41d2-a579-3b70f4364fa1",
   "metadata": {},
   "outputs": [
    {
     "name": "stdout",
     "output_type": "stream",
     "text": [
      "var: 00000Hello\n"
     ]
    }
   ],
   "source": [
    "#it add zero at the begining of the string bcz length is specified.\n",
    "var = 'Hello'\n",
    "print(f'var:',var.zfill(10))"
   ]
  },
  {
   "cell_type": "code",
   "execution_count": 220,
   "id": "93793599-6d6c-4cc7-9bde-9b20a880dff9",
   "metadata": {},
   "outputs": [
    {
     "name": "stdout",
     "output_type": "stream",
     "text": [
      "var: 00000Hello\n",
      "var1: Hello everyone how are you\n"
     ]
    }
   ],
   "source": [
    "#this time var1 return as same bcz the length of the string max then specified.\n",
    "var = 'Hello'\n",
    "var1 = 'Hello everyone how are you'\n",
    "print(f'var:',var.zfill(10))\n",
    "print(f'var1:',var1.zfill(10))"
   ]
  },
  {
   "cell_type": "code",
   "execution_count": null,
   "id": "91037238-f7e3-485e-bcbe-485da36b025a",
   "metadata": {},
   "outputs": [],
   "source": []
  }
 ],
 "metadata": {
  "kernelspec": {
   "display_name": "Python 3 (ipykernel)",
   "language": "python",
   "name": "python3"
  },
  "language_info": {
   "codemirror_mode": {
    "name": "ipython",
    "version": 3
   },
   "file_extension": ".py",
   "mimetype": "text/x-python",
   "name": "python",
   "nbconvert_exporter": "python",
   "pygments_lexer": "ipython3",
   "version": "3.12.4"
  }
 },
 "nbformat": 4,
 "nbformat_minor": 5
}
